{
 "cells": [
  {
   "cell_type": "markdown",
   "id": "cb87be84-9a73-435d-8054-555b91ec7ca2",
   "metadata": {},
   "source": [
    "# TP1: Modelo cinemático y odometrı́a en robot de tracción diferencial"
   ]
  },
  {
   "cell_type": "markdown",
   "id": "aade3fc4-b803-4557-b26a-49bab993b06e",
   "metadata": {},
   "source": [
    "### Parte 1: cálculos analíticos para robot de tracción diferencial"
   ]
  },
  {
   "cell_type": "markdown",
   "id": "95c481a8-8b54-4315-a741-2b2eb50bf178",
   "metadata": {},
   "source": [
    "#### 1. Determinar de forma analítica el radio del camino circular que realiza el robot al ajustar la velocidad lineal y angular a valores constantes."
   ]
  },
  {
   "cell_type": "markdown",
   "id": "0d4e3d92-e6c7-4634-b705-6a24ce16a8f7",
   "metadata": {},
   "source": [
    "Para determinar de forma analítica el radio del camino circular que realiza un robot al ajustar su velocidad lineal $v$ y su velocidad angular $ω$ a valores constantes, se puede usar la relación entre estas dos velocidades.\n",
    "\n",
    "La velocidad lineal $v$ de un objeto en movimiento circular está relacionada con su velocidad angular $ω$ y el radio $R$ del camino circular mediante la siguiente fórmula:\n",
    "\n",
    "$$v=w*R$$\n",
    "\n",
    "De esta relación, se puede despejar el radio $R$:\n",
    "\n",
    "$$R=\\frac{v}{w}$$"
   ]
  },
  {
   "cell_type": "markdown",
   "id": "0a419147-aaae-4c99-988e-29d68ad8c7ae",
   "metadata": {},
   "source": [
    "#### 2. Realizar el cálculo con valores numéricos para dos velocidades cualesquiera teniendo en cuenta las velocidades máximas del robot. Nota: Tener en cuenta los límites de velocidad y los parámetros cinemáticos (el radio de la rueda $R$ y la distancia entre ruedas $b$) del robot."
   ]
  },
  {
   "cell_type": "markdown",
   "id": "1062d4a0-8e79-431d-a3a3-ecd9dde64588",
   "metadata": {},
   "source": [
    "Para una $v=0,2 m/s$ y una $w=2 rad/s$ y utilizando la fórmula del punto anterior se obtiene R:\n",
    "\n",
    "$$R=\\frac{0,2}{2}=0,1$$\n",
    "\n",
    "Utilizando las ecucaciones del centro odométrico en R (sist. de coord. del robot), se puede obtener la velocidad angular de cada rueda:\n",
    "\n",
    "$$v=R(\\frac{w_R+w_L}{2})$$ $$w=R(\\frac{w_R-w_L}{b})$$\n",
    "\n",
    "Depejando $w_L$ de la primera ecucación y despejando $w_R$ de la segunda, se obtinen las siguientes ecuaciones:\n",
    "\n",
    "$$w_L=\\frac{2.v}{R}-w_R$$ \n",
    "\n",
    "$$w_R=\\frac{w.b}{R}+w_L$$\n",
    "\n",
    "Se tienen 2 ecuaciones con 2 incógnitas, con lo cual reemplazando una en otra se obtienen ambas velocidades angulares. Tener en cuenta que $b=0,16m$.\n",
    "\n",
    "$$w_R=\\frac{w.b}{R}+\\frac{2.v}{R}-w_R$$\n",
    "\n",
    "$$w_R=\\frac{\\frac{w.b}{R}+\\frac{2.v}{R}}{2}$$\n",
    "\n",
    "$$w_R=12$$\n",
    "\n",
    "$$w_L=\\frac{2.v}{R}-w_R$$ \n",
    "\n",
    "$$w_L=-8$$"
   ]
  },
  {
   "cell_type": "markdown",
   "id": "8799dff7-6a37-456a-a88a-a12d4d2582a4",
   "metadata": {},
   "source": [
    "Teneniendo en cuenta el radio de la rueda (0,033 m) y con las velocidades angulares se calculan las velocidades de cada rueda con las siguientes ecuaciones:\n",
    "\n",
    "$$v_L=R*w_L=-0,264$$\n",
    "\n",
    "$$v_R=R*w_R=0,396$$"
   ]
  },
  {
   "cell_type": "markdown",
   "id": "12c5ecbd-f173-41a2-a305-45d6c99ba210",
   "metadata": {},
   "source": [
    "#### 3. Calcular la velocidad lineal y angular para que el robot realice un camino circular con un radio a elección entre 0,5m y 2,0m."
   ]
  },
  {
   "cell_type": "markdown",
   "id": "8329aeaa-54d7-4777-89d2-f7f7eff8fd82",
   "metadata": {},
   "source": [
    "Se elige un $R=1m$. Esto indica que $v$ y $w$ son iguales para que la relación entre ambos de 1. Por ej: \n",
    "\n",
    "$$v=0,2$$ $$w=0,2$$\n",
    "\n",
    "Partiendo de las ecuaciones obtenidas en el punto anterior:\n",
    "\n",
    "$$w_R=\\frac{\\frac{w.b}{R}+\\frac{2.v}{R}}{2}$$\n",
    "\n",
    "$$w_R=0,216$$\n",
    "\n",
    "$$w_L=\\frac{2.v}{R}-w_R$$ \n",
    "\n",
    "$$w_L=0,184$$\n",
    "\n"
   ]
  },
  {
   "cell_type": "markdown",
   "id": "4a69576b-b6b9-4da2-9402-2e703e07b455",
   "metadata": {},
   "source": [
    "#### 4. Calcular las velocidades lineales y angulares de las ruedas (izquierda y derecha) del robot para el camino circular del punto anterior."
   ]
  },
  {
   "cell_type": "markdown",
   "id": "833dc8af-d1fc-4992-b6b4-dc72261e378c",
   "metadata": {},
   "source": [
    "Teneniendo en cuenta el radio de la rueda (0,033 m) y con las velocidades angulares se calculan las velocidades de cada rueda con las siguientes ecuaciones:\n",
    "\n",
    "$$v_L=R*w_L=0,0061$$\n",
    "\n",
    "$$v_R=R*w_R=0,0013$$"
   ]
  },
  {
   "cell_type": "markdown",
   "id": "ab0c4307-8d0e-4ad6-999e-7c88f2cf60f9",
   "metadata": {},
   "source": [
    "#### 5. ¿Qué sucede si se intercambian las velocidades de ruedas entre izquierda y derecha?"
   ]
  },
  {
   "cell_type": "markdown",
   "id": "f6269faf-22b4-43cf-ae89-6eca4d3285af",
   "metadata": {},
   "source": [
    "Si se intercambian las velocidades de las ruedas entre la izquierda y la derecha, el robot se moverá en un camino circular pero en la dirección opuesta. "
   ]
  }
 ],
 "metadata": {
  "kernelspec": {
   "display_name": "Python 3 (ipykernel)",
   "language": "python",
   "name": "python3"
  },
  "language_info": {
   "codemirror_mode": {
    "name": "ipython",
    "version": 3
   },
   "file_extension": ".py",
   "mimetype": "text/x-python",
   "name": "python",
   "nbconvert_exporter": "python",
   "pygments_lexer": "ipython3",
   "version": "3.8.10"
  }
 },
 "nbformat": 4,
 "nbformat_minor": 5
}
